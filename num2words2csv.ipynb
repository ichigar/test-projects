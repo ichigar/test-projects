{
  "nbformat": 4,
  "nbformat_minor": 0,
  "metadata": {
    "colab": {
      "provenance": [],
      "authorship_tag": "ABX9TyN0kLBd5/yVyvLQXML2KZXE",
      "include_colab_link": true
    },
    "kernelspec": {
      "name": "python3",
      "display_name": "Python 3"
    },
    "language_info": {
      "name": "python"
    }
  },
  "cells": [
    {
      "cell_type": "markdown",
      "metadata": {
        "id": "view-in-github",
        "colab_type": "text"
      },
      "source": [
        "<a href=\"https://colab.research.google.com/github/ichigar/test-projects/blob/main/num2words2csv.ipynb\" target=\"_parent\"><img src=\"https://colab.research.google.com/assets/colab-badge.svg\" alt=\"Open In Colab\"/></a>"
      ]
    },
    {
      "cell_type": "markdown",
      "source": [
        "# num2words2csv\n",
        "\n",
        "Utilidad que permite obtener descripción en forma de texto a partir de una cantidad en formato moneda.\n",
        "\n",
        "La entrada se obtiene de un archivo de hoja de cálculo y se descarga el resultado que será un archivo con el mismo contenido que el que se sube al que se le añade una columna con la descripción\n",
        "\n",
        "## Instrucciones\n",
        "\n",
        "Generar archivo en formato `.csv` con una única columna con los valores a convertir en texto. El archivo podrá tener cualquier nombre y tener la extensión `.csv`\n",
        "\n",
        "La primera fila del archivo contendrá el nombre de campo, y debajo, en cada fila los valores para los que se quiere obtener el texto. Como separador decimal se debe usar la \",\". Genera el archivo en un programa de cálculo con celdas de la forma:\n",
        "\n",
        "```csv\n",
        "totales\n",
        "23534,34 €\n",
        "1000,05 €\n",
        "345,28 €\n",
        "````\n",
        "\n",
        "Guarda el archivo en formato `csv` con las opciones por defecto.\n",
        "\n",
        "**Nota:** El programa también procesa correctamente si los valores en las celdas son de la forma:\n",
        "\n",
        "* 12_234_456,34 €\n",
        "* 12.234.456,34\n",
        "* € 12234456,34\n",
        "\n",
        "Para ejecutar el programa:\n",
        "\n",
        "* haz click en el símbolo de play de la celda que aparece a continuación\n",
        "* Al ejecutarse el programa, en la parte baja se mostrará un botón **Examinar** haz click en el mismo y sube el archivo `csv`\n",
        "* Se mostrará el resultado por pantalla y nos aparacerá un cuadro de diálogo para descargar el archivo `csv` resultante"
      ],
      "metadata": {
        "id": "dB1PDM7LGpzk"
      }
    },
    {
      "cell_type": "code",
      "source": [
        "import pandas as pd\n",
        "import io\n",
        "from google.colab import files\n",
        "\n",
        "!pip install num2words\n",
        "\n",
        "from num2words import num2words\n",
        "\n",
        "def extract_num(curr_str):\n",
        "    temp = \"\"\n",
        "    for char in curr_str:\n",
        "        if char == \",\":\n",
        "            temp += \".\"\n",
        "        if char.isdigit():\n",
        "            temp += char\n",
        "    return float(temp)\n",
        "\n",
        "uploaded = files.upload()\n",
        "for key, data in uploaded.items():\n",
        "  file_name = key\n",
        "f = io.BytesIO(uploaded[file_name])\n",
        "df = pd.read_csv(f)\n",
        "key_totales = df.keys()[0]\n",
        "\n",
        "values = [extract_num(item) for item in df[key_totales]]\n",
        "textos = [num2words(num, to='currency', lang='es') for num in values]\n",
        "df['texto'] = textos\n",
        "df.to_csv('output.csv')\n",
        "\n",
        "print(df)\n",
        "\n",
        "files.download('output.csv')\n"
      ],
      "metadata": {
        "id": "7ZfDXAQVXZ3t"
      },
      "execution_count": null,
      "outputs": []
    }
  ]
}